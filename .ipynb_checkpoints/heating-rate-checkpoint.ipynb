{
 "metadata": {
  "name": ""
 },
 "nbformat": 3,
 "nbformat_minor": 0,
 "worksheets": [
  {
   "cells": [
    {
     "cell_type": "code",
     "collapsed": false,
     "input": [
      "def dotT( s, g ):\n",
      "    \"\"\" Calculate heating rate given the lattice depth (s) and the gree compensation (g)\"\"\"\n",
      "    \n",
      "    a = 1410/3.  * 2.03e-3    # This is in nK per second\n",
      "    R = [0.93, 0.77, 0.68]    # Retro factors\n",
      "    grC = [1.2, 1.345, 0.68 ] # GR correction factors \n",
      "\n",
      "    \n",
      "    total = 0 \n",
      "    for i in range(3):\n",
      "        total = total + s*(1 + R[i])/np.sqrt(R[i]) + 65.22 * grC[i]*g\n",
      "    \n",
      "    return total"
     ],
     "language": "python",
     "metadata": {},
     "outputs": [],
     "prompt_number": 12
    },
    {
     "cell_type": "code",
     "collapsed": false,
     "input": [
      "dotT( 7., 2.9)"
     ],
     "language": "python",
     "metadata": {},
     "outputs": [
      {
       "metadata": {},
       "output_type": "pyout",
       "prompt_number": 13,
       "text": [
        "652.36007757129346"
       ]
      }
     ],
     "prompt_number": 13
    },
    {
     "cell_type": "code",
     "collapsed": false,
     "input": [
      "dotT( 5., 2.9)"
     ],
     "language": "python",
     "metadata": {},
     "outputs": [
      {
       "metadata": {},
       "output_type": "pyout",
       "prompt_number": 16,
       "text": [
        "640.24864112235252"
       ]
      }
     ],
     "prompt_number": 16
    },
    {
     "cell_type": "code",
     "collapsed": false,
     "input": [
      "dotT( np.array([5., 7.]), 2.9 )"
     ],
     "language": "python",
     "metadata": {},
     "outputs": [
      {
       "metadata": {},
       "output_type": "pyout",
       "prompt_number": 15,
       "text": [
        "array([ 640.24864112,  652.36007757])"
       ]
      }
     ],
     "prompt_number": 15
    },
    {
     "cell_type": "code",
     "collapsed": false,
     "input": [
      "fig = plt.figure( figsize(4.,4))\n",
      "gs = matplotlib.gridspec.GridSpec( 1,1 )\n",
      "ax = fig.add_subplot( gs[0,0] ) \n",
      "\n",
      "for s in np.arange(1., 9., 2.):\n",
      "    g = np.linspace(0.,3.4,80)\n",
      "    ax.plot( g, dotT(s,g))"
     ],
     "language": "python",
     "metadata": {},
     "outputs": [
      {
       "metadata": {},
       "output_type": "display_data",
       "png": "[encoded data removed]",
       "text": [
        "<matplotlib.figure.Figure at 0xa18a92c>"
       ]
      }
     ],
     "prompt_number": 23
    },
    {
     "cell_type": "code",
     "collapsed": false,
     "input": [],
     "language": "python",
     "metadata": {},
     "outputs": []
    }
   ],
   "metadata": {}
  }
 ]
}