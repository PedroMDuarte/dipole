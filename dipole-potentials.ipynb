{
 "metadata": {
  "name": ""
 },
 "nbformat": 3,
 "nbformat_minor": 0,
 "worksheets": [
  {
   "cells": [
    {
     "cell_type": "code",
     "collapsed": false,
     "input": [
      "import scipy.constants as C\n",
      "\n",
      "def u_lambda( l ):\n",
      "    # l is the wavenelgth of the light\n",
      "    \n",
      "    omega0 = 2*np.pi*C.c/ (671.e-9)  # Hz \n",
      "    omegaL = 2*np.pi*C.c/ (l*1e-9)  # Hz\n",
      "    \n",
      "    Gamma = (2*np.pi*5.9e6)\n",
      "    \n",
      "    m2um = 1e6  # meter to umeter\n",
      "    W2mW = 1e-3 # W to mW \n",
      "    K2uK = 1e6  # K to uK\n",
      "    \n",
      "    convert = m2um**2 * W2mW * K2uK\n",
      "     \n",
      "    return   -1*convert * 3.*np.pi*C.c**2 /2 /omega0**3 * Gamma / C.k \\\n",
      "        * ( 1. / ( omega0-omegaL) + 1. / (omega0+omegaL) )\n",
      "\n",
      "\n",
      "print u_lambda( 1064. ) \n",
      "print u_lambda( 532. )\n",
      "\n",
      "def h_lambda( l ):\n",
      "    # l is the wavenelgth of the light\n",
      "    \n",
      "    omega0 = 2*np.pi*C.c/ (671.e-9)  # Hz \n",
      "    omegaL = 2*np.pi*C.c/ (l*1e-9)  # Hz\n",
      "    ofactor = ( 1. / ( omega0-omegaL) + 1. / (omega0+omegaL) )\n",
      "    \n",
      "    Gamma = (2*np.pi*5.9e6)\n",
      "    \n",
      "    m2um = 1e6  # meter to umeter\n",
      "    W2mW = 1e-3 # W to mW \n",
      "    convert = m2um**2 * W2mW    \n",
      "    \n",
      "    return convert * ( 3*np.pi*C.c**2 /2 /(C.hbar*omega0**3) )\\\n",
      "            * Gamma**2 * (omegaL/omega0)**3 * ofactor**2\n",
      "\n",
      "    \n",
      "print h_lambda( 1064. ) \n",
      "print h_lambda( 532. )\n",
      "\n",
      "\n",
      "def recoil( l ):\n",
      "# recoil energy \n",
      "    Er = C.h**2 / (2*6* (C.physical_constants['atomic mass constant'][0]) * (l*1e-9)**2)  / C.k *1e6\n",
      "    if True:\n",
      "        print \"Er = %.2f uK\"%Er\n",
      "\n",
      "print\n",
      "recoil(1064.)\n",
      "recoil(532.)"
     ],
     "language": "python",
     "metadata": {},
     "outputs": [
      {
       "output_type": "stream",
       "stream": "stdout",
       "text": [
        "-60.8051291777\n",
        "61.9857451029\n",
        "0.0875517920305\n",
        "0.72787742146\n",
        "\n",
        "Er = 1.41 uK\n",
        "Er = 5.64 uK\n"
       ]
      }
     ],
     "prompt_number": 2
    },
    {
     "cell_type": "code",
     "collapsed": false,
     "input": [
      "import scipy.constants as C\n",
      "\n",
      "def u_lambda( l ):\n",
      "    # l is the wavenelgth of the light\n",
      "    isat = 5.1 / 1e8 # mW/um^2 \n",
      "    \n",
      "    omega0 = 2*np.pi*C.c/ (671.e-9)  # Hz \n",
      "    omegaL = 2*np.pi*C.c/ (l*1e-9)  # Hz\n",
      "     \n",
      "    return (2./np.pi) * (C.hbar * (2*np.pi*5.9e6)**2 / C.k * 1e6) / (4*isat) \\\n",
      "        * ( 1. / ( omega0-omegaL) + 1. / (omega0+omegaL) )\n",
      "\n",
      "\n",
      "print u_lambda( 1064. ) \n",
      "print u_lambda( 532. )\n",
      "\n",
      "def v_lambda( l ):\n",
      "    # l is the wavenelgth of the light\n",
      "    isat = 5.1 / 1e8 # mW/um^2 \n",
      "    Er = C.h**2 / (2*6* (C.physical_constants['atomic mass constant'][0]) * (l*1e-9)**2)  / C.k *1e6\n",
      "    ##print \"Er = %.2f uK\"%Er\n",
      "    \n",
      "    omega0 = 2*np.pi*C.c/ (671.e-9)  # Hz \n",
      "    omegaL = 2*np.pi*C.c/ (l*1e-9)  # Hz\n",
      "    ofactor = ( 1. / ( omega0-omegaL) + 1. / (omega0+omegaL) )\n",
      "    \n",
      "    Gamma = (2*np.pi*5.9e6)\n",
      "    \n",
      "    return Er*(2./np.pi)*(Gamma**3/(4*isat) )*  (omegaL/omega0)**3 * ofactor**2\n",
      "\n",
      "    \n",
      "print v_lambda( 1064. ) \n",
      "print v_lambda( 532. )"
     ],
     "language": "python",
     "metadata": {},
     "outputs": [
      {
       "output_type": "stream",
       "stream": "stdout",
       "text": [
        "38.7480444975\n",
        "-39.5003915284\n",
        "0.0786483862238\n",
        "2.61542948415\n"
       ]
      }
     ],
     "prompt_number": 41
    }
   ],
   "metadata": {}
  }
 ]
}